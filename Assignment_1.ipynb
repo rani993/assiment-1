{
 "cells": [
  {
   "cell_type": "markdown",
   "metadata": {
    "id": "A6A3ryjdEfug"
   },
   "source": [
    "#### Ques 1.Write code that uses iteration to print out the length of each element of the list stored in list.\n",
    "### list = [\"hello\", \"\", \"goodbye\", \"wonderful\", \"I love Python\"]"
   ]
  },
  {
   "cell_type": "code",
   "execution_count": null,
   "metadata": {},
   "outputs": [],
   "source": [
    "list=[\"hello\",\"\",\"goodbye\",\"wonderful\",\"I love Python\"]\n",
    "l1=[len(list[0]), len(list[1]), len(list[2]), len(list[3]), len(list[4])]\n",
    "l1"
   ]
  },
  {
   "cell_type": "markdown",
   "metadata": {
    "id": "Y0Y-m1Y_Ff_C"
   },
   "source": [
    "### Ques 2.  Write a Python program to count and display the vowels of a given text."
   ]
  },
  {
   "cell_type": "raw",
   "metadata": {},
   "source": [
    "j=0\n",
    "a = str(input(\"Enter a Sentence\"))\n",
    "b=a.lower();\n",
    "for i in b:\n",
    "    if(i=='a' or i=='e' or i=='i' or i=='o' or i=='u'):\n",
    "        j=j+1\n",
    "        print(i)\n",
    "print(\"Total Number of Vowels are \",j)"
   ]
  },
  {
   "cell_type": "markdown",
   "metadata": {
    "id": "j-nZ8jIJFy8w"
   },
   "source": [
    "#### Ques 3. Write code to create a list of numbers from 0 to 88 and assign that list to the variable nums. Do not hard code the list."
   ]
  },
  {
   "cell_type": "code",
   "execution_count": null,
   "metadata": {},
   "outputs": [],
   "source": [
    "l=[]\n",
    "for i in range(89):\n",
    "    l.append(i)\n",
    "l"
   ]
  },
  {
   "cell_type": "markdown",
   "metadata": {
    "id": "pXb6mAa4HYP3"
   },
   "source": [
    "#### Ques 4.Addition is a string with a list of numbers separated by the + sign. Write code that uses the accumulation pattern to take the sum of all of the numbers and assigns it to sum_val (an integer). (You should use the .split(\"+\") function to split by \"+\" and int() to cast to an integer).\n",
    "#### Addition = \"2+5+10+20\""
   ]
  },
  {
   "cell_type": "code",
   "execution_count": null,
   "metadata": {},
   "outputs": [],
   "source": [
    "j=0\n",
    "n=input().split(\"+\")\n",
    "for i in n:\n",
    "    j=j+int(i)\n",
    "print(j)"
   ]
  },
  {
   "cell_type": "markdown",
   "metadata": {
    "id": "ivZSuKbaEiAm"
   },
   "source": [
    "### Ques 5.Write a Python program to find the volume of a sphere with diameter 12 cm.\n",
    " Formula: V=4/3 * π * r 3"
   ]
  },
  {
   "cell_type": "code",
   "execution_count": null,
   "metadata": {},
   "outputs": [],
   "source": [
    "d=12\n",
    "r=d/2\n",
    "v=4/3*22/7*r**3 \n",
    "print(v)"
   ]
  },
  {
   "cell_type": "code",
   "execution_count": null,
   "metadata": {},
   "outputs": [],
   "source": []
  },
  {
   "cell_type": "code",
   "execution_count": null,
   "metadata": {},
   "outputs": [],
   "source": []
  },
  {
   "cell_type": "code",
   "execution_count": null,
   "metadata": {},
   "outputs": [],
   "source": []
  },
  {
   "cell_type": "code",
   "execution_count": null,
   "metadata": {},
   "outputs": [],
   "source": []
  }
 ],
 "metadata": {
  "colab": {
   "name": "Assignment_1.ipynb",
   "provenance": []
  },
  "kernelspec": {
   "display_name": "Python 3",
   "language": "python",
   "name": "python3"
  },
  "language_info": {
   "codemirror_mode": {
    "name": "ipython",
    "version": 3
   },
   "file_extension": ".py",
   "mimetype": "text/x-python",
   "name": "python",
   "nbconvert_exporter": "python",
   "pygments_lexer": "ipython3",
   "version": "3.7.6"
  }
 },
 "nbformat": 4,
 "nbformat_minor": 1
}
